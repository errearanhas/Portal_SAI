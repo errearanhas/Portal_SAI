{
 "cells": [
  {
   "cell_type": "code",
   "execution_count": null,
   "metadata": {},
   "outputs": [],
   "source": [
    "import sai_data as sai"
   ]
  },
  {
   "cell_type": "code",
   "execution_count": null,
   "metadata": {},
   "outputs": [],
   "source": [
    "txt_file = 'corpus_related_parties.txt'\n",
    "# txt_file = 'corpus_nepotism.txt'\n",
    "# txt_file = 'corpus_conflicts_of_interest.txt'\n",
    "\n",
    "corpus = tcu.generate_corpus(txt_file, docx_list)"
   ]
  },
  {
   "cell_type": "code",
   "execution_count": null,
   "metadata": {},
   "outputs": [],
   "source": [
    "corpus = sai.replaces_in_corpus(corpus)"
   ]
  },
  {
   "cell_type": "code",
   "execution_count": null,
   "metadata": {},
   "outputs": [],
   "source": [
    "blacklist = sai.blacklist_parties\n",
    "# blacklist = sai.blacklist_conflict\n",
    "\n",
    "text_total = sai.remove_blacklist(corpus, blacklist)"
   ]
  },
  {
   "cell_type": "code",
   "execution_count": null,
   "metadata": {},
   "outputs": [],
   "source": [
    "text_term = sai.filter_text_chunks(text_total, topic='RPT')"
   ]
  },
  {
   "cell_type": "code",
   "execution_count": null,
   "metadata": {},
   "outputs": [],
   "source": [
    "corpus_tfidf_Tot = sai.filter_corpus(text_term, text_total, which_text='TOTAL')\n",
    "corpus_tfidf_Term = sai.filter_corpus(text_term, text_total, which_text='TERM')"
   ]
  },
  {
   "cell_type": "code",
   "execution_count": null,
   "metadata": {},
   "outputs": [],
   "source": [
    "total_topics = 5\n",
    "lda_total, corpus_lda_total = sai.generate_lda(total_topics, text_term, text_total, which_text='TOTAL')\n",
    "lda_term, corpus_lda_term = sai.generate_lda(total_topics, text_term, text_total, which_text='TERM')"
   ]
  },
  {
   "cell_type": "code",
   "execution_count": null,
   "metadata": {},
   "outputs": [],
   "source": [
    "sai.show_N_terms(lda_term, lda_total, total_topics)"
   ]
  },
  {
   "cell_type": "code",
   "execution_count": null,
   "metadata": {},
   "outputs": [],
   "source": [
    "df_lda_term, df_lda_total = sai.prepare_data_clustermap(lda_term, lda_total, total_topics)"
   ]
  },
  {
   "cell_type": "code",
   "execution_count": null,
   "metadata": {},
   "outputs": [],
   "source": [
    "sai.generate_clustermap(df_lda_total, df_lda_term, which_text='TOTAL')"
   ]
  },
  {
   "cell_type": "code",
   "execution_count": null,
   "metadata": {},
   "outputs": [],
   "source": [
    "sai.generate_clustermap(df_lda_total, df_lda_term, which_text='TERM')"
   ]
  },
  {
   "cell_type": "code",
   "execution_count": null,
   "metadata": {},
   "outputs": [],
   "source": [
    "dict_term, dict_total = sai.gera_dicts(text_term, text_total)"
   ]
  },
  {
   "cell_type": "code",
   "execution_count": null,
   "metadata": {},
   "outputs": [],
   "source": [
    "sai.generate_lda_vis(lda_term, corpus_lda_term, dict_term)"
   ]
  }
 ],
 "metadata": {
  "kernelspec": {
   "display_name": "Python 3",
   "language": "python",
   "name": "python3"
  },
  "language_info": {
   "codemirror_mode": {
    "name": "ipython",
    "version": 3
   },
   "file_extension": ".py",
   "mimetype": "text/x-python",
   "name": "python",
   "nbconvert_exporter": "python",
   "pygments_lexer": "ipython3",
   "version": "3.7.6"
  }
 },
 "nbformat": 4,
 "nbformat_minor": 4
}
